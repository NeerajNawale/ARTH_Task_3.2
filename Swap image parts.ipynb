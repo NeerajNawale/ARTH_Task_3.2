{
 "cells": [
  {
   "cell_type": "code",
   "execution_count": 1,
   "id": "e0f579e3",
   "metadata": {},
   "outputs": [],
   "source": [
    "import cv2"
   ]
  },
  {
   "cell_type": "code",
   "execution_count": 2,
   "id": "9eb1b6e2",
   "metadata": {},
   "outputs": [],
   "source": [
    "img3 = cv2.imread(\"img3.jpeg\")"
   ]
  },
  {
   "cell_type": "code",
   "execution_count": 3,
   "id": "936695fb",
   "metadata": {},
   "outputs": [],
   "source": [
    "cv2.imshow(\"img3\", img3)\n",
    "cv2.waitKey() == 13\n",
    "cv2.destroyAllWindows()"
   ]
  },
  {
   "cell_type": "code",
   "execution_count": 4,
   "id": "8f9d874c",
   "metadata": {},
   "outputs": [],
   "source": [
    "img2 = cv2.imread(\"img2.jpeg\")"
   ]
  },
  {
   "cell_type": "code",
   "execution_count": 5,
   "id": "ecad113d",
   "metadata": {},
   "outputs": [],
   "source": [
    "cv2.imshow(\"img2\", img2)\n",
    "cv2.waitKey() == 13\n",
    "cv2.destroyAllWindows()"
   ]
  },
  {
   "cell_type": "code",
   "execution_count": 6,
   "id": "e601d0f7",
   "metadata": {},
   "outputs": [
    {
     "data": {
      "text/plain": [
       "(1002, 564, 3)"
      ]
     },
     "execution_count": 6,
     "metadata": {},
     "output_type": "execute_result"
    }
   ],
   "source": [
    "img3.shape"
   ]
  },
  {
   "cell_type": "code",
   "execution_count": 7,
   "id": "40ca7fcc",
   "metadata": {},
   "outputs": [],
   "source": [
    "img3 = img3[:700, :720]"
   ]
  },
  {
   "cell_type": "code",
   "execution_count": 8,
   "id": "401ec762",
   "metadata": {},
   "outputs": [
    {
     "data": {
      "text/plain": [
       "(700, 564, 3)"
      ]
     },
     "execution_count": 8,
     "metadata": {},
     "output_type": "execute_result"
    }
   ],
   "source": [
    "img3.shape"
   ]
  },
  {
   "cell_type": "code",
   "execution_count": 9,
   "id": "f136c768",
   "metadata": {},
   "outputs": [
    {
     "data": {
      "text/plain": [
       "(1280, 720, 3)"
      ]
     },
     "execution_count": 9,
     "metadata": {},
     "output_type": "execute_result"
    }
   ],
   "source": [
    "img2.shape"
   ]
  },
  {
   "cell_type": "code",
   "execution_count": 10,
   "id": "e259fc07",
   "metadata": {},
   "outputs": [],
   "source": [
    "img2 = img2[:700, :564]"
   ]
  },
  {
   "cell_type": "code",
   "execution_count": 11,
   "id": "eeb5c9a3",
   "metadata": {},
   "outputs": [
    {
     "data": {
      "text/plain": [
       "(700, 564, 3)"
      ]
     },
     "execution_count": 11,
     "metadata": {},
     "output_type": "execute_result"
    }
   ],
   "source": [
    "img2.shape"
   ]
  },
  {
   "cell_type": "code",
   "execution_count": 12,
   "id": "46cae0b0",
   "metadata": {},
   "outputs": [],
   "source": [
    "img2[:, 320:] = img3[:, 320:]"
   ]
  },
  {
   "cell_type": "code",
   "execution_count": 13,
   "id": "bac5f1e8",
   "metadata": {},
   "outputs": [],
   "source": [
    "cv2.imshow(\"img2\", img2)\n",
    "cv2.waitKey() == 13\n",
    "cv2.destroyAllWindows()"
   ]
  },
  {
   "cell_type": "code",
   "execution_count": null,
   "id": "eae111e2",
   "metadata": {},
   "outputs": [],
   "source": []
  }
 ],
 "metadata": {
  "kernelspec": {
   "display_name": "Python 3",
   "language": "python",
   "name": "python3"
  },
  "language_info": {
   "codemirror_mode": {
    "name": "ipython",
    "version": 3
   },
   "file_extension": ".py",
   "mimetype": "text/x-python",
   "name": "python",
   "nbconvert_exporter": "python",
   "pygments_lexer": "ipython3",
   "version": "3.8.8"
  }
 },
 "nbformat": 4,
 "nbformat_minor": 5
}
